{
 "cells": [
  {
   "cell_type": "code",
   "execution_count": 1,
   "metadata": {},
   "outputs": [],
   "source": [
    "import random\n",
    "import re"
   ]
  },
  {
   "cell_type": "code",
   "execution_count": 2,
   "metadata": {},
   "outputs": [],
   "source": [
    "#Making Dictonary\n",
    "Bot = \"Bot : {0}\"\n",
    "Human = \"Human : {0}\""
   ]
  },
  {
   "cell_type": "code",
   "execution_count": 77,
   "metadata": {},
   "outputs": [],
   "source": [
    "rules = {'Halo(.*)' : ['Halo','Hai','Hei Hei','Hola'],\n",
    "    'Saya mau(.*)': ['{0} Apa ? ','Tentu saja mari saya bantu'],\n",
    "         'Apakah kamu bisa(.*)': ['Mari saya {0}','Sini serahkan padaku{0}'],\n",
    "         'Bagaimana cara(.*)' : ['Tentu saja itu mudah sini saya akan memabntu {0}','Ya kau cukup serahkan padaku saya akan mencoba {0}', 'Cukup katakan apa yang kamu mau']\n",
    "}"
   ]
  },
  {
   "cell_type": "code",
   "execution_count": 78,
   "metadata": {},
   "outputs": [],
   "source": [
    "def send_message(message):\n",
    "    print(user_template.format(message))\n",
    "    response = respond(message)\n",
    "    print(bot_template.format(response))"
   ]
  },
  {
   "cell_type": "code",
   "execution_count": 79,
   "metadata": {},
   "outputs": [],
   "source": [
    "# Define match_rule()\n",
    "def match_rule(rules, message):\n",
    "    response, phrase = \"default\", None\n",
    "    \n",
    "    # Iterate over the rules dictionary\n",
    "    for pattern, responses in rules.items():\n",
    "        # Create a match object\n",
    "        match = re.search(pattern, message)\n",
    "        if match is not None:\n",
    "            # Choose a random response\n",
    "            response = random.choice(responses)\n",
    "            if '{0}' in response:\n",
    "                phrase = match.group(1)\n",
    "    # Return the response and phrase\n",
    "    return response.format(phrase)"
   ]
  },
  {
   "cell_type": "code",
   "execution_count": 80,
   "metadata": {},
   "outputs": [
    {
     "name": "stdout",
     "output_type": "stream",
     "text": [
      "Halo\n",
      "default\n",
      "Sini serahkan padaku membantu mencari tempat makan\n"
     ]
    }
   ],
   "source": [
    "# Test match_rule\n",
    "print(match_rule(rules, \"Halo\"))\n",
    "print(match_rule(rules, \"Saya Mau mencari tempat makan\"))\n",
    "print(match_rule(rules, \"Apakah kamu bisa membantu mencari tempat makan\"))"
   ]
  },
  {
   "cell_type": "markdown",
   "metadata": {},
   "source": [
    "# Define replace_pronouns()"
   ]
  },
  {
   "cell_type": "code",
   "execution_count": 81,
   "metadata": {},
   "outputs": [],
   "source": [
    "def replace_pronouns(message):\n",
    "\n",
    "    message = message.lower()\n",
    "    if 'me' in message:\n",
    "        # Replace 'me' with 'you'\n",
    "        return re.sub('saya', 'kamu', message)\n",
    "    if 'your' in message:\n",
    "        # Replace 'your' with 'my'\n",
    "        return re.sub('kamu', 'saya', message)\n",
    "\n",
    "    return message"
   ]
  },
  {
   "cell_type": "code",
   "execution_count": 82,
   "metadata": {},
   "outputs": [
    {
     "name": "stdout",
     "output_type": "stream",
     "text": [
      "kapan saya ulang tahun\n"
     ]
    }
   ],
   "source": [
    "print(replace_pronouns(\"Kapan saya ulang tahun\"))"
   ]
  },
  {
   "cell_type": "markdown",
   "metadata": {},
   "source": [
    "# Define respond()"
   ]
  },
  {
   "cell_type": "code",
   "execution_count": 83,
   "metadata": {},
   "outputs": [],
   "source": [
    "def respond(message):\n",
    "    # Call match_rule\n",
    "    response = match_rule(rules, message)\n",
    "    if '{0}' in response:\n",
    "        # Replace the pronouns in the phrase\n",
    "        phrase = replace_pronouns(phrase)\n",
    "        # Include the phrase in the response\n",
    "        response = response.format(phrase)\n",
    "    return response"
   ]
  },
  {
   "cell_type": "code",
   "execution_count": 84,
   "metadata": {},
   "outputs": [],
   "source": [
    "def send_message(message):\n",
    "    print(Human.format(message))\n",
    "    response = respond(message)\n",
    "    print(Bot.format(response))"
   ]
  },
  {
   "cell_type": "code",
   "execution_count": 85,
   "metadata": {},
   "outputs": [
    {
     "name": "stdout",
     "output_type": "stream",
     "text": [
      "Human : Halo\n",
      "Bot : Halo\n",
      "Human : Saya mau makan\n",
      "Bot :  makan Apa ? \n",
      "Human : Apakah kamu bisa mencarikan tempat makan\n",
      "Bot : Mari saya  mencarikan tempat makan\n",
      "Human : Bagaimana caranya memesan makanan\n",
      "Bot : Ya kau cukup serahkan padaku saya akan mencoba nya memesan makanan\n"
     ]
    }
   ],
   "source": [
    "# Send the messages\n",
    "send_message(\"Halo\")\n",
    "send_message(\"Saya mau makan\")\n",
    "send_message(\"Apakah kamu bisa mencarikan tempat makan\")\n",
    "send_message(\"Bagaimana caranya memesan makanan\")"
   ]
  }
 ],
 "metadata": {
  "kernelspec": {
   "display_name": "Python 3",
   "language": "python",
   "name": "python3"
  },
  "language_info": {
   "codemirror_mode": {
    "name": "ipython",
    "version": 3
   },
   "file_extension": ".py",
   "mimetype": "text/x-python",
   "name": "python",
   "nbconvert_exporter": "python",
   "pygments_lexer": "ipython3",
   "version": "3.7.6"
  }
 },
 "nbformat": 4,
 "nbformat_minor": 4
}
